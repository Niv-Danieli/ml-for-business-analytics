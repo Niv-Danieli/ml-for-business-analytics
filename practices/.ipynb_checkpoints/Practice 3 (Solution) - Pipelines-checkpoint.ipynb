{
 "cells": [
  {
   "cell_type": "markdown",
   "metadata": {
    "slideshow": {
     "slide_type": "slide"
    }
   },
   "source": [
    "# Data preprocessing and pipelines\n"
   ]
  },
  {
   "cell_type": "code",
   "execution_count": 1,
   "metadata": {},
   "outputs": [],
   "source": [
    "# General imports\n",
    "%matplotlib inline\n",
    "import pandas as pd\n",
    "import openml as oml\n",
    "from sklearn.preprocessing import StandardScaler, MinMaxScaler, OneHotEncoder\n",
    "from sklearn.pipeline import make_pipeline, Pipeline\n",
    "from sklearn.compose import make_column_transformer\n",
    "from sklearn.model_selection import cross_val_score\n",
    "from sklearn.linear_model import LinearRegression\n",
    "from sklearn.linear_model import LinearRegression, Ridge, Lasso\n",
    "from sklearn.ensemble import RandomForestRegressor, GradientBoostingRegressor,RandomForestClassifier,GradientBoostingClassifier\n",
    "from sklearn.impute import SimpleImputer\n",
    "from sklearn.neighbors import KNeighborsClassifier, KNeighborsRegressor\n",
    "from sklearn.model_selection import GridSearchCV\n",
    "from sklearn.svm import SVR,SVC\n",
    "from tqdm.notebook import tqdm as tqdm"
   ]
  },
  {
   "cell_type": "code",
   "execution_count": 2,
   "metadata": {},
   "outputs": [],
   "source": [
    "data = pd.read_csv(\"carprice.csv\")\n",
    "data.drop(columns=[\"car_ID\", \"symboling\"], inplace=True)\n",
    "X = data.drop(columns=[\"price\"])\n",
    "y = data[\"price\"]"
   ]
  },
  {
   "cell_type": "code",
   "execution_count": 3,
   "metadata": {},
   "outputs": [
    {
     "data": {
      "text/html": [
       "<div>\n",
       "<style scoped>\n",
       "    .dataframe tbody tr th:only-of-type {\n",
       "        vertical-align: middle;\n",
       "    }\n",
       "\n",
       "    .dataframe tbody tr th {\n",
       "        vertical-align: top;\n",
       "    }\n",
       "\n",
       "    .dataframe thead th {\n",
       "        text-align: right;\n",
       "    }\n",
       "</style>\n",
       "<table border=\"1\" class=\"dataframe\">\n",
       "  <thead>\n",
       "    <tr style=\"text-align: right;\">\n",
       "      <th></th>\n",
       "      <th>CarName</th>\n",
       "      <th>fueltype</th>\n",
       "      <th>aspiration</th>\n",
       "      <th>doornumber</th>\n",
       "      <th>carbody</th>\n",
       "      <th>drivewheel</th>\n",
       "      <th>enginelocation</th>\n",
       "      <th>wheelbase</th>\n",
       "      <th>carlength</th>\n",
       "      <th>carwidth</th>\n",
       "      <th>...</th>\n",
       "      <th>cylindernumber</th>\n",
       "      <th>enginesize</th>\n",
       "      <th>fuelsystem</th>\n",
       "      <th>boreratio</th>\n",
       "      <th>stroke</th>\n",
       "      <th>compressionratio</th>\n",
       "      <th>horsepower</th>\n",
       "      <th>peakrpm</th>\n",
       "      <th>citympg</th>\n",
       "      <th>highwaympg</th>\n",
       "    </tr>\n",
       "  </thead>\n",
       "  <tbody>\n",
       "    <tr>\n",
       "      <th>0</th>\n",
       "      <td>alfa-romero giulia</td>\n",
       "      <td>gas</td>\n",
       "      <td>std</td>\n",
       "      <td>two</td>\n",
       "      <td>convertible</td>\n",
       "      <td>rwd</td>\n",
       "      <td>front</td>\n",
       "      <td>88.6</td>\n",
       "      <td>168.8</td>\n",
       "      <td>64.1</td>\n",
       "      <td>...</td>\n",
       "      <td>four</td>\n",
       "      <td>130</td>\n",
       "      <td>mpfi</td>\n",
       "      <td>3.47</td>\n",
       "      <td>2.68</td>\n",
       "      <td>9.0</td>\n",
       "      <td>111</td>\n",
       "      <td>5000</td>\n",
       "      <td>21</td>\n",
       "      <td>27</td>\n",
       "    </tr>\n",
       "    <tr>\n",
       "      <th>1</th>\n",
       "      <td>alfa-romero stelvio</td>\n",
       "      <td>gas</td>\n",
       "      <td>std</td>\n",
       "      <td>two</td>\n",
       "      <td>convertible</td>\n",
       "      <td>rwd</td>\n",
       "      <td>front</td>\n",
       "      <td>88.6</td>\n",
       "      <td>168.8</td>\n",
       "      <td>64.1</td>\n",
       "      <td>...</td>\n",
       "      <td>four</td>\n",
       "      <td>130</td>\n",
       "      <td>mpfi</td>\n",
       "      <td>3.47</td>\n",
       "      <td>2.68</td>\n",
       "      <td>9.0</td>\n",
       "      <td>111</td>\n",
       "      <td>5000</td>\n",
       "      <td>21</td>\n",
       "      <td>27</td>\n",
       "    </tr>\n",
       "    <tr>\n",
       "      <th>2</th>\n",
       "      <td>alfa-romero Quadrifoglio</td>\n",
       "      <td>gas</td>\n",
       "      <td>std</td>\n",
       "      <td>two</td>\n",
       "      <td>hatchback</td>\n",
       "      <td>rwd</td>\n",
       "      <td>front</td>\n",
       "      <td>94.5</td>\n",
       "      <td>171.2</td>\n",
       "      <td>65.5</td>\n",
       "      <td>...</td>\n",
       "      <td>six</td>\n",
       "      <td>152</td>\n",
       "      <td>mpfi</td>\n",
       "      <td>2.68</td>\n",
       "      <td>3.47</td>\n",
       "      <td>9.0</td>\n",
       "      <td>154</td>\n",
       "      <td>5000</td>\n",
       "      <td>19</td>\n",
       "      <td>26</td>\n",
       "    </tr>\n",
       "    <tr>\n",
       "      <th>3</th>\n",
       "      <td>audi 100 ls</td>\n",
       "      <td>gas</td>\n",
       "      <td>std</td>\n",
       "      <td>four</td>\n",
       "      <td>sedan</td>\n",
       "      <td>fwd</td>\n",
       "      <td>front</td>\n",
       "      <td>99.8</td>\n",
       "      <td>176.6</td>\n",
       "      <td>66.2</td>\n",
       "      <td>...</td>\n",
       "      <td>four</td>\n",
       "      <td>109</td>\n",
       "      <td>mpfi</td>\n",
       "      <td>3.19</td>\n",
       "      <td>3.40</td>\n",
       "      <td>10.0</td>\n",
       "      <td>102</td>\n",
       "      <td>5500</td>\n",
       "      <td>24</td>\n",
       "      <td>30</td>\n",
       "    </tr>\n",
       "    <tr>\n",
       "      <th>4</th>\n",
       "      <td>audi 100ls</td>\n",
       "      <td>gas</td>\n",
       "      <td>std</td>\n",
       "      <td>four</td>\n",
       "      <td>sedan</td>\n",
       "      <td>4wd</td>\n",
       "      <td>front</td>\n",
       "      <td>99.4</td>\n",
       "      <td>176.6</td>\n",
       "      <td>66.4</td>\n",
       "      <td>...</td>\n",
       "      <td>five</td>\n",
       "      <td>136</td>\n",
       "      <td>mpfi</td>\n",
       "      <td>3.19</td>\n",
       "      <td>3.40</td>\n",
       "      <td>8.0</td>\n",
       "      <td>115</td>\n",
       "      <td>5500</td>\n",
       "      <td>18</td>\n",
       "      <td>22</td>\n",
       "    </tr>\n",
       "  </tbody>\n",
       "</table>\n",
       "<p>5 rows × 23 columns</p>\n",
       "</div>"
      ],
      "text/plain": [
       "                    CarName fueltype aspiration doornumber      carbody  \\\n",
       "0        alfa-romero giulia      gas        std        two  convertible   \n",
       "1       alfa-romero stelvio      gas        std        two  convertible   \n",
       "2  alfa-romero Quadrifoglio      gas        std        two    hatchback   \n",
       "3               audi 100 ls      gas        std       four        sedan   \n",
       "4                audi 100ls      gas        std       four        sedan   \n",
       "\n",
       "  drivewheel enginelocation  wheelbase  carlength  carwidth  ...  \\\n",
       "0        rwd          front       88.6      168.8      64.1  ...   \n",
       "1        rwd          front       88.6      168.8      64.1  ...   \n",
       "2        rwd          front       94.5      171.2      65.5  ...   \n",
       "3        fwd          front       99.8      176.6      66.2  ...   \n",
       "4        4wd          front       99.4      176.6      66.4  ...   \n",
       "\n",
       "   cylindernumber  enginesize fuelsystem boreratio  stroke compressionratio  \\\n",
       "0            four         130       mpfi      3.47    2.68              9.0   \n",
       "1            four         130       mpfi      3.47    2.68              9.0   \n",
       "2             six         152       mpfi      2.68    3.47              9.0   \n",
       "3            four         109       mpfi      3.19    3.40             10.0   \n",
       "4            five         136       mpfi      3.19    3.40              8.0   \n",
       "\n",
       "   horsepower  peakrpm  citympg  highwaympg  \n",
       "0         111     5000       21          27  \n",
       "1         111     5000       21          27  \n",
       "2         154     5000       19          26  \n",
       "3         102     5500       24          30  \n",
       "4         115     5500       18          22  \n",
       "\n",
       "[5 rows x 23 columns]"
      ]
     },
     "execution_count": 3,
     "metadata": {},
     "output_type": "execute_result"
    }
   ],
   "source": [
    "X.head()"
   ]
  },
  {
   "cell_type": "code",
   "execution_count": 4,
   "metadata": {},
   "outputs": [
    {
     "name": "stdout",
     "output_type": "stream",
     "text": [
      "<class 'pandas.core.frame.DataFrame'>\n",
      "RangeIndex: 205 entries, 0 to 204\n",
      "Data columns (total 23 columns):\n",
      " #   Column            Non-Null Count  Dtype  \n",
      "---  ------            --------------  -----  \n",
      " 0   CarName           205 non-null    object \n",
      " 1   fueltype          205 non-null    object \n",
      " 2   aspiration        205 non-null    object \n",
      " 3   doornumber        205 non-null    object \n",
      " 4   carbody           205 non-null    object \n",
      " 5   drivewheel        205 non-null    object \n",
      " 6   enginelocation    205 non-null    object \n",
      " 7   wheelbase         205 non-null    float64\n",
      " 8   carlength         205 non-null    float64\n",
      " 9   carwidth          205 non-null    float64\n",
      " 10  carheight         205 non-null    float64\n",
      " 11  curbweight        205 non-null    int64  \n",
      " 12  enginetype        205 non-null    object \n",
      " 13  cylindernumber    205 non-null    object \n",
      " 14  enginesize        205 non-null    int64  \n",
      " 15  fuelsystem        205 non-null    object \n",
      " 16  boreratio         205 non-null    float64\n",
      " 17  stroke            205 non-null    float64\n",
      " 18  compressionratio  205 non-null    float64\n",
      " 19  horsepower        205 non-null    int64  \n",
      " 20  peakrpm           205 non-null    int64  \n",
      " 21  citympg           205 non-null    int64  \n",
      " 22  highwaympg        205 non-null    int64  \n",
      "dtypes: float64(7), int64(6), object(10)\n",
      "memory usage: 37.0+ KB\n"
     ]
    }
   ],
   "source": [
    "X.info()"
   ]
  },
  {
   "cell_type": "code",
   "execution_count": 5,
   "metadata": {},
   "outputs": [
    {
     "data": {
      "text/plain": [
       "0    13495.0\n",
       "1    16500.0\n",
       "2    16500.0\n",
       "3    13950.0\n",
       "4    17450.0\n",
       "Name: price, dtype: float64"
      ]
     },
     "execution_count": 5,
     "metadata": {},
     "output_type": "execute_result"
    }
   ],
   "source": [
    "y.head()"
   ]
  },
  {
   "cell_type": "markdown",
   "metadata": {
    "slideshow": {
     "slide_type": "subslide"
    }
   },
   "source": [
    "## Exercise 1: Build a pipeline"
   ]
  },
  {
   "cell_type": "markdown",
   "metadata": {},
   "source": [
    "Implement a function `build_pipeline` that does the following:\n",
    "- Impute missing values by replacing NaN's with the feature median for numerical features.\n",
    "- Encode the categorical features using OneHotEncoding.\n",
    "- Scale the data using min-max scaling.\n",
    "- Attach the given regression model to the end of the pipeline"
   ]
  },
  {
   "cell_type": "code",
   "execution_count": 6,
   "metadata": {},
   "outputs": [],
   "source": [
    "def build_pipeline(regressor, categorical):\n",
    "    cat_pipe = make_pipeline(OneHotEncoder(handle_unknown='ignore'))\n",
    "    num_pipe = make_pipeline(SimpleImputer(strategy='mean'))\n",
    "    num_pipe.steps.insert(1,[\"scaler\", MinMaxScaler()]) \n",
    "    transform = make_column_transformer((cat_pipe, categorical), remainder=num_pipe)\n",
    "    return Pipeline(steps=[('preprocess', transform), ('reg', regressor)])"
   ]
  },
  {
   "cell_type": "markdown",
   "metadata": {},
   "source": [
    "## Exercise 2: Test the pipeline\n",
    "Test the pipeline by evaluating linear regression (without scaling) on the dataset, using 5-fold cross-validation and $R^2$. "
   ]
  },
  {
   "cell_type": "code",
   "execution_count": 7,
   "metadata": {},
   "outputs": [
    {
     "name": "stdout",
     "output_type": "stream",
     "text": [
      "Cross-validated R^2 score for LinearRegression: -0.27\n"
     ]
    }
   ],
   "source": [
    "categorical = X.select_dtypes(include=[\"object\"]).columns\n",
    "regressor = LinearRegression()\n",
    "pipe = build_pipeline(regressor,categorical)\n",
    "scores = cross_val_score(pipe, X, y)\n",
    "print(\"Cross-validated R^2 score for {}: {:.2f}\".format(regressor.__class__.__name__, scores.mean()))"
   ]
  },
  {
   "cell_type": "markdown",
   "metadata": {},
   "source": [
    "## Exercise 3: A first benchmark\n",
    "Evaluate the following algorithms in their default settings, both with and without scaling, and interpret the results:  \n",
    "- Linear regression\n",
    "- Ridge\n",
    "- Lasso\n",
    "- SVM (RBF)\n",
    "- RandomForests\n",
    "- GradientBoosting"
   ]
  },
  {
   "cell_type": "code",
   "execution_count": 8,
   "metadata": {},
   "outputs": [
    {
     "data": {
      "application/vnd.jupyter.widget-view+json": {
       "model_id": "ae0555d15b11437fb54870012a54c465",
       "version_major": 2,
       "version_minor": 0
      },
      "text/plain": [
       "  0%|          | 0/6 [00:00<?, ?it/s]"
      ]
     },
     "metadata": {},
     "output_type": "display_data"
    },
    {
     "name": "stdout",
     "output_type": "stream",
     "text": [
      "R^2 score for LinearRegression: -0.27\n",
      "R^2 score for LinearRegression (scaled): -0.27\n",
      "R^2 score for Ridge: 0.40\n",
      "R^2 score for Ridge (scaled): 0.40\n"
     ]
    },
    {
     "name": "stderr",
     "output_type": "stream",
     "text": [
      "/Users/orperets/opt/anaconda3/lib/python3.8/site-packages/sklearn/linear_model/_coordinate_descent.py:592: ConvergenceWarning: Objective did not converge. You might want to increase the number of iterations. Duality gap: 4016858.5758827627, tolerance: 1207668.5476894265\n",
      "  model = cd_fast.sparse_enet_coordinate_descent(\n",
      "/Users/orperets/opt/anaconda3/lib/python3.8/site-packages/sklearn/linear_model/_coordinate_descent.py:592: ConvergenceWarning: Objective did not converge. You might want to increase the number of iterations. Duality gap: 3431548.189468965, tolerance: 1033374.6192783266\n",
      "  model = cd_fast.sparse_enet_coordinate_descent(\n",
      "/Users/orperets/opt/anaconda3/lib/python3.8/site-packages/sklearn/linear_model/_coordinate_descent.py:592: ConvergenceWarning: Objective did not converge. You might want to increase the number of iterations. Duality gap: 1384109.366284132, tolerance: 1227640.9712946396\n",
      "  model = cd_fast.sparse_enet_coordinate_descent(\n"
     ]
    },
    {
     "name": "stdout",
     "output_type": "stream",
     "text": [
      "R^2 score for Lasso: 0.36\n"
     ]
    },
    {
     "name": "stderr",
     "output_type": "stream",
     "text": [
      "/Users/orperets/opt/anaconda3/lib/python3.8/site-packages/sklearn/linear_model/_coordinate_descent.py:592: ConvergenceWarning: Objective did not converge. You might want to increase the number of iterations. Duality gap: 4016858.5758827627, tolerance: 1207668.5476894265\n",
      "  model = cd_fast.sparse_enet_coordinate_descent(\n",
      "/Users/orperets/opt/anaconda3/lib/python3.8/site-packages/sklearn/linear_model/_coordinate_descent.py:592: ConvergenceWarning: Objective did not converge. You might want to increase the number of iterations. Duality gap: 3431548.189468965, tolerance: 1033374.6192783266\n",
      "  model = cd_fast.sparse_enet_coordinate_descent(\n",
      "/Users/orperets/opt/anaconda3/lib/python3.8/site-packages/sklearn/linear_model/_coordinate_descent.py:592: ConvergenceWarning: Objective did not converge. You might want to increase the number of iterations. Duality gap: 1384109.366284132, tolerance: 1227640.9712946396\n",
      "  model = cd_fast.sparse_enet_coordinate_descent(\n"
     ]
    },
    {
     "name": "stdout",
     "output_type": "stream",
     "text": [
      "R^2 score for Lasso (scaled): 0.36\n",
      "R^2 score for RandomForestRegressor: 0.42\n",
      "R^2 score for RandomForestRegressor (scaled): 0.39\n",
      "R^2 score for GradientBoostingRegressor: 0.53\n",
      "R^2 score for GradientBoostingRegressor (scaled): 0.53\n",
      "R^2 score for SVR: -0.20\n",
      "R^2 score for SVR (scaled): -0.20\n"
     ]
    }
   ],
   "source": [
    "### Model solution\n",
    "models = [LinearRegression(), Ridge(), Lasso(), RandomForestRegressor(), GradientBoostingRegressor(), SVR()]\n",
    "for m in tqdm(models): # nstantly make your loops show a smart progress meter\n",
    "    pipe = build_pipeline(m,categorical)\n",
    "    scores = cross_val_score(pipe, X, y)\n",
    "    print(\"R^2 score for {}: {:.2f}\".format(m.__class__.__name__, scores.mean()))\n",
    "    pipe = build_pipeline(m,categorical)\n",
    "    scores = cross_val_score(pipe, X, y)\n",
    "    print(\"R^2 score for {} (scaled): {:.2f}\".format(m.__class__.__name__, scores.mean()))"
   ]
  },
  {
   "cell_type": "markdown",
   "metadata": {},
   "source": [
    "## Exercise 4: Classification\n",
    "\n",
    "1. Use the original dataset and convert the target columns to 0 (cheap) / 1 (expensive)\n",
    "2. Re-evaluate the pipeline. What are the conclusions?"
   ]
  },
  {
   "cell_type": "code",
   "execution_count": 9,
   "metadata": {},
   "outputs": [],
   "source": [
    "m = data[\"price\"].mean()\n",
    "data.loc[data[\"price\"] < m, \"price\"] = 0\n",
    "data.loc[data[\"price\"] >= m, \"price\"] = 1\n",
    "X = data.drop(columns=[\"price\"])\n",
    "y = data[\"price\"]"
   ]
  },
  {
   "cell_type": "code",
   "execution_count": 10,
   "metadata": {},
   "outputs": [
    {
     "data": {
      "application/vnd.jupyter.widget-view+json": {
       "model_id": "c168caa24db7455a9fde9f1a8f23b69b",
       "version_major": 2,
       "version_minor": 0
      },
      "text/plain": [
       "  0%|          | 0/3 [00:00<?, ?it/s]"
      ]
     },
     "metadata": {},
     "output_type": "display_data"
    },
    {
     "name": "stdout",
     "output_type": "stream",
     "text": [
      "R^2 score for RandomForestClassifier: 0.87\n",
      "R^2 score for RandomForestClassifier (scaled): 0.88\n",
      "R^2 score for GradientBoostingClassifier: 0.85\n",
      "R^2 score for GradientBoostingClassifier (scaled): 0.85\n",
      "R^2 score for SVC: 0.86\n",
      "R^2 score for SVC (scaled): 0.86\n"
     ]
    }
   ],
   "source": [
    "### Model solution\n",
    "models = [RandomForestClassifier(), GradientBoostingClassifier(), SVC()]\n",
    "for m in tqdm(models): # nstantly make your loops show a smart progress meter\n",
    "    pipe = build_pipeline(m,categorical)\n",
    "    scores = cross_val_score(pipe, X, y)\n",
    "    print(\"R^2 score for {}: {:.2f}\".format(m.__class__.__name__, scores.mean()))\n",
    "    pipe = build_pipeline(m,categorical)\n",
    "    scores = cross_val_score(pipe, X, y)\n",
    "    print(\"R^2 score for {} (scaled): {:.2f}\".format(m.__class__.__name__, scores.mean()))"
   ]
  },
  {
   "cell_type": "code",
   "execution_count": null,
   "metadata": {},
   "outputs": [],
   "source": []
  }
 ],
 "metadata": {
  "anaconda-cloud": {},
  "celltoolbar": "Slideshow",
  "kernelspec": {
   "display_name": "Python 3",
   "language": "python",
   "name": "python3"
  },
  "language_info": {
   "codemirror_mode": {
    "name": "ipython",
    "version": 3
   },
   "file_extension": ".py",
   "mimetype": "text/x-python",
   "name": "python",
   "nbconvert_exporter": "python",
   "pygments_lexer": "ipython3",
   "version": "3.8.8"
  }
 },
 "nbformat": 4,
 "nbformat_minor": 4
}
