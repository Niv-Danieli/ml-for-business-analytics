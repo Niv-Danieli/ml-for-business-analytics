{
 "cells": [
  {
   "cell_type": "markdown",
   "metadata": {
    "slideshow": {
     "slide_type": "slide"
    }
   },
   "source": [
    "# Data preprocessing and pipelines\n",
    "We explore the performance of several linear regression models on a real-world dataset, i.e. [MoneyBall](https://www.openml.org/d/41021). See the description on OpenML for more information. In short, this dataset captures performance data from baseball players. The regression task is to accurately predict the number of 'runs' each player can score, and understanding which are the most important factors."
   ]
  },
  {
   "cell_type": "code",
   "execution_count": 2,
   "metadata": {},
   "outputs": [],
   "source": [
    "# General imports\n",
    "%matplotlib inline\n",
    "import pandas as pd\n",
    "import openml as oml\n",
    "from sklearn.preprocessing import StandardScaler, MinMaxScaler, OneHotEncoder\n",
    "from sklearn.pipeline import make_pipeline, Pipeline\n",
    "from sklearn.compose import make_column_transformer\n",
    "from sklearn.model_selection import cross_val_score\n",
    "from sklearn.linear_model import LinearRegression\n",
    "from sklearn.linear_model import LinearRegression, Ridge, Lasso\n",
    "from sklearn.ensemble import RandomForestRegressor, GradientBoostingRegressor\n",
    "from sklearn.svm import SVR\n",
    "from tqdm.notebook import tqdm as tqdm"
   ]
  },
  {
   "cell_type": "code",
   "execution_count": 3,
   "metadata": {},
   "outputs": [],
   "source": [
    "# Download MoneyBall data from OpenML\n",
    "moneyball = oml.datasets.get_dataset(41021)\n",
    "# Get the pandas dataframe (default)\n",
    "X, y, _, attribute_names = moneyball.get_data(target=moneyball.default_target_attribute)"
   ]
  },
  {
   "cell_type": "markdown",
   "metadata": {},
   "source": [
    "For this first quick visualization, we will simply impute the missing values using the median. Removing all instances with missing values is not really an option since some features have consistent missing values: we would have to remove a lot of data."
   ]
  },
  {
   "cell_type": "markdown",
   "metadata": {},
   "source": [
    "## Impute Missing Values"
   ]
  },
  {
   "cell_type": "code",
   "execution_count": 4,
   "metadata": {},
   "outputs": [
    {
     "data": {
      "text/html": [
       "<div>\n",
       "<style scoped>\n",
       "    .dataframe tbody tr th:only-of-type {\n",
       "        vertical-align: middle;\n",
       "    }\n",
       "\n",
       "    .dataframe tbody tr th {\n",
       "        vertical-align: top;\n",
       "    }\n",
       "\n",
       "    .dataframe thead th {\n",
       "        text-align: right;\n",
       "    }\n",
       "</style>\n",
       "<table border=\"1\" class=\"dataframe\">\n",
       "  <thead>\n",
       "    <tr style=\"text-align: right;\">\n",
       "      <th></th>\n",
       "      <th>Team</th>\n",
       "      <th>League</th>\n",
       "      <th>Year</th>\n",
       "      <th>RA</th>\n",
       "      <th>W</th>\n",
       "      <th>OBP</th>\n",
       "      <th>SLG</th>\n",
       "      <th>BA</th>\n",
       "      <th>Playoffs</th>\n",
       "      <th>RankSeason</th>\n",
       "      <th>RankPlayoffs</th>\n",
       "      <th>G</th>\n",
       "      <th>OOBP</th>\n",
       "      <th>OSLG</th>\n",
       "    </tr>\n",
       "  </thead>\n",
       "  <tbody>\n",
       "    <tr>\n",
       "      <th>0</th>\n",
       "      <td>ARI</td>\n",
       "      <td>NL</td>\n",
       "      <td>2012</td>\n",
       "      <td>688</td>\n",
       "      <td>81</td>\n",
       "      <td>0.328</td>\n",
       "      <td>0.418</td>\n",
       "      <td>0.259</td>\n",
       "      <td>0</td>\n",
       "      <td>NaN</td>\n",
       "      <td>NaN</td>\n",
       "      <td>162</td>\n",
       "      <td>0.317</td>\n",
       "      <td>0.415</td>\n",
       "    </tr>\n",
       "    <tr>\n",
       "      <th>1</th>\n",
       "      <td>ATL</td>\n",
       "      <td>NL</td>\n",
       "      <td>2012</td>\n",
       "      <td>600</td>\n",
       "      <td>94</td>\n",
       "      <td>0.320</td>\n",
       "      <td>0.389</td>\n",
       "      <td>0.247</td>\n",
       "      <td>1</td>\n",
       "      <td>4</td>\n",
       "      <td>5</td>\n",
       "      <td>162</td>\n",
       "      <td>0.306</td>\n",
       "      <td>0.378</td>\n",
       "    </tr>\n",
       "    <tr>\n",
       "      <th>2</th>\n",
       "      <td>BAL</td>\n",
       "      <td>AL</td>\n",
       "      <td>2012</td>\n",
       "      <td>705</td>\n",
       "      <td>93</td>\n",
       "      <td>0.311</td>\n",
       "      <td>0.417</td>\n",
       "      <td>0.247</td>\n",
       "      <td>1</td>\n",
       "      <td>5</td>\n",
       "      <td>4</td>\n",
       "      <td>162</td>\n",
       "      <td>0.315</td>\n",
       "      <td>0.403</td>\n",
       "    </tr>\n",
       "    <tr>\n",
       "      <th>3</th>\n",
       "      <td>BOS</td>\n",
       "      <td>AL</td>\n",
       "      <td>2012</td>\n",
       "      <td>806</td>\n",
       "      <td>69</td>\n",
       "      <td>0.315</td>\n",
       "      <td>0.415</td>\n",
       "      <td>0.260</td>\n",
       "      <td>0</td>\n",
       "      <td>NaN</td>\n",
       "      <td>NaN</td>\n",
       "      <td>162</td>\n",
       "      <td>0.331</td>\n",
       "      <td>0.428</td>\n",
       "    </tr>\n",
       "    <tr>\n",
       "      <th>4</th>\n",
       "      <td>CHC</td>\n",
       "      <td>NL</td>\n",
       "      <td>2012</td>\n",
       "      <td>759</td>\n",
       "      <td>61</td>\n",
       "      <td>0.302</td>\n",
       "      <td>0.378</td>\n",
       "      <td>0.240</td>\n",
       "      <td>0</td>\n",
       "      <td>NaN</td>\n",
       "      <td>NaN</td>\n",
       "      <td>162</td>\n",
       "      <td>0.335</td>\n",
       "      <td>0.424</td>\n",
       "    </tr>\n",
       "  </tbody>\n",
       "</table>\n",
       "</div>"
      ],
      "text/plain": [
       "  Team League  Year   RA   W    OBP    SLG     BA Playoffs RankSeason  \\\n",
       "0  ARI     NL  2012  688  81  0.328  0.418  0.259        0        NaN   \n",
       "1  ATL     NL  2012  600  94  0.320  0.389  0.247        1          4   \n",
       "2  BAL     AL  2012  705  93  0.311  0.417  0.247        1          5   \n",
       "3  BOS     AL  2012  806  69  0.315  0.415  0.260        0        NaN   \n",
       "4  CHC     NL  2012  759  61  0.302  0.378  0.240        0        NaN   \n",
       "\n",
       "  RankPlayoffs    G   OOBP   OSLG  \n",
       "0          NaN  162  0.317  0.415  \n",
       "1            5  162  0.306  0.378  \n",
       "2            4  162  0.315  0.403  \n",
       "3          NaN  162  0.331  0.428  \n",
       "4          NaN  162  0.335  0.424  "
      ]
     },
     "execution_count": 4,
     "metadata": {},
     "output_type": "execute_result"
    }
   ],
   "source": [
    "X.head()"
   ]
  },
  {
   "cell_type": "code",
   "execution_count": 11,
   "metadata": {},
   "outputs": [
    {
     "data": {
      "text/plain": [
       "0       734\n",
       "1       700\n",
       "2       712\n",
       "3       734\n",
       "4       613\n",
       "       ... \n",
       "1227    705\n",
       "1228    706\n",
       "1229    878\n",
       "1230    774\n",
       "1231    599\n",
       "Name: RS, Length: 1232, dtype: int64"
      ]
     },
     "execution_count": 11,
     "metadata": {},
     "output_type": "execute_result"
    }
   ],
   "source": [
    "y"
   ]
  },
  {
   "cell_type": "code",
   "execution_count": 5,
   "metadata": {},
   "outputs": [],
   "source": [
    "from sklearn.impute import SimpleImputer\n",
    "\n",
    "imputer = SimpleImputer(strategy=\"median\")"
   ]
  },
  {
   "cell_type": "code",
   "execution_count": 6,
   "metadata": {},
   "outputs": [
    {
     "data": {
      "text/plain": [
       "array([[3., 3.],\n",
       "       [4., 5.],\n",
       "       [5., 4.],\n",
       "       ...,\n",
       "       [1., 2.],\n",
       "       [3., 3.],\n",
       "       [3., 3.]])"
      ]
     },
     "execution_count": 6,
     "metadata": {},
     "output_type": "execute_result"
    }
   ],
   "source": [
    "imputer.fit_transform(X[[\"RankSeason\", \"RankPlayoffs\"]])"
   ]
  },
  {
   "cell_type": "markdown",
   "metadata": {
    "slideshow": {
     "slide_type": "subslide"
    }
   },
   "source": [
    "## Exercise 1: Build a pipeline"
   ]
  },
  {
   "cell_type": "markdown",
   "metadata": {},
   "source": [
    "Implement a function `build_pipeline` that does the following:\n",
    "- Impute missing values by replacing NaN's with the feature median for numerical features.\n",
    "- Encode the categorical features using OneHotEncoding.\n",
    "- If the attribute `scaling=True`, also scale the data using standard scaling.\n",
    "- Attach the given regression model to the end of the pipeline"
   ]
  },
  {
   "cell_type": "code",
   "execution_count": 7,
   "metadata": {},
   "outputs": [],
   "source": [
    "def build_pipeline(regressor, categorical, scaling=False):\n",
    "    cat_pipe = make_pipeline(OneHotEncoder(handle_unknown='ignore'))\n",
    "    num_pipe = make_pipeline(SimpleImputer(strategy='mean'))\n",
    "    if scaling:\n",
    "        num_pipe.steps.insert(1,[\"scaler\", StandardScaler()]) \n",
    "    transform = make_column_transformer((cat_pipe, categorical), remainder=num_pipe)\n",
    "    # Give a name to the regressor so that we can tune it more easily\n",
    "    return Pipeline(steps=[('preprocess', transform), ('reg', regressor)])"
   ]
  },
  {
   "cell_type": "markdown",
   "metadata": {},
   "source": [
    "## Exercise 2: Test the pipeline\n",
    "Test the pipeline by evaluating linear regression (without scaling) on the dataset, using 5-fold cross-validation and $R^2$. "
   ]
  },
  {
   "cell_type": "code",
   "execution_count": 9,
   "metadata": {},
   "outputs": [
    {
     "name": "stdout",
     "output_type": "stream",
     "text": [
      "Cross-validated R^2 score for LinearRegression: 0.92\n"
     ]
    }
   ],
   "source": [
    "### Model solution\n",
    "categorical = [\"Team\",\"League\"]\n",
    "# regressor = LinearRegression()\n",
    "pipe = build_pipeline(regressor,categorical)\n",
    "scores = cross_val_score(pipe, X, y)\n",
    "print(\"Cross-validated R^2 score for {}: {:.2f}\".format(regressor.__class__.__name__, scores.mean()))"
   ]
  },
  {
   "cell_type": "markdown",
   "metadata": {},
   "source": [
    "## Exercise 3: A first benchmark\n",
    "Evaluate the following algorithms in their default settings, both with and without scaling, and interpret the results:  \n",
    "- Linear regression\n",
    "- Ridge\n",
    "- Lasso\n",
    "- SVM (RBF)\n",
    "- RandomForests\n",
    "- GradientBoosting"
   ]
  },
  {
   "cell_type": "code",
   "execution_count": 10,
   "metadata": {},
   "outputs": [
    {
     "data": {
      "application/vnd.jupyter.widget-view+json": {
       "model_id": "4b6e8c7a65d44361b2a952b2dccc8a39",
       "version_major": 2,
       "version_minor": 0
      },
      "text/plain": [
       "  0%|          | 0/6 [00:00<?, ?it/s]"
      ]
     },
     "metadata": {},
     "output_type": "display_data"
    },
    {
     "name": "stdout",
     "output_type": "stream",
     "text": [
      "R^2 score for LinearRegression: 0.92\n",
      "R^2 score for LinearRegression (scaled): 0.92\n",
      "R^2 score for Ridge: 0.80\n",
      "R^2 score for Ridge (scaled): 0.92\n",
      "R^2 score for Lasso: 0.81\n",
      "R^2 score for Lasso (scaled): 0.92\n",
      "R^2 score for RandomForestRegressor: 0.89\n",
      "R^2 score for RandomForestRegressor (scaled): 0.89\n",
      "R^2 score for GradientBoostingRegressor: 0.91\n",
      "R^2 score for GradientBoostingRegressor (scaled): 0.91\n",
      "R^2 score for SVR: -0.46\n",
      "R^2 score for SVR (scaled): 0.27\n"
     ]
    }
   ],
   "source": [
    "### Model solution\n",
    "models = [LinearRegression(), Ridge(), Lasso(), RandomForestRegressor(), GradientBoostingRegressor(), SVR()]\n",
    "for m in tqdm(models): # nstantly make your loops show a smart progress meter\n",
    "    pipe = build_pipeline(m,categorical)\n",
    "    scores = cross_val_score(pipe, X, y)\n",
    "    print(\"R^2 score for {}: {:.2f}\".format(m.__class__.__name__, scores.mean()))\n",
    "    pipe = build_pipeline(m,categorical, scaling=True)\n",
    "    scores = cross_val_score(pipe, X, y)\n",
    "    print(\"R^2 score for {} (scaled): {:.2f}\".format(m.__class__.__name__, scores.mean()))"
   ]
  },
  {
   "cell_type": "code",
   "execution_count": null,
   "metadata": {},
   "outputs": [],
   "source": []
  }
 ],
 "metadata": {
  "anaconda-cloud": {},
  "celltoolbar": "Slideshow",
  "kernelspec": {
   "display_name": "Python 3",
   "language": "python",
   "name": "python3"
  },
  "language_info": {
   "codemirror_mode": {
    "name": "ipython",
    "version": 3
   },
   "file_extension": ".py",
   "mimetype": "text/x-python",
   "name": "python",
   "nbconvert_exporter": "python",
   "pygments_lexer": "ipython3",
   "version": "3.8.8"
  }
 },
 "nbformat": 4,
 "nbformat_minor": 4
}
