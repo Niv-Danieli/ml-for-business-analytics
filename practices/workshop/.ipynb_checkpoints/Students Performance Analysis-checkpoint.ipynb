{
 "cells": [
  {
   "cell_type": "code",
   "execution_count": null,
   "id": "0c978f33",
   "metadata": {},
   "outputs": [],
   "source": [
    "%matplotlib inline\n",
    "import matplotlib.pyplot as plt\n",
    "import numpy as np\n",
    "import pandas as pd\n",
    "import os\n",
    "from sklearn.preprocessing import StandardScaler, MinMaxScaler, OneHotEncoder, LabelEncoder\n",
    "from sklearn.pipeline import make_pipeline, Pipeline\n",
    "from sklearn.compose import make_column_transformer\n",
    "from sklearn.model_selection import cross_val_score, KFold, StratifiedKFold, GridSearchCV\n",
    "from sklearn.linear_model import LinearRegression, Ridge, Lasso,LogisticRegression\n",
    "from sklearn.ensemble import RandomForestClassifier, GradientBoostingClassifier, AdaBoostClassifier\n",
    "from sklearn.feature_selection import SelectFromModel\n",
    "from sklearn.svm import SVC,SVR\n",
    "from tqdm.notebook import tqdm as tqdm\n",
    "from sklearn import decomposition\n",
    "import seaborn as sns\n",
    "from sklearn.manifold import TSNE, LocallyLinearEmbedding, MDS\n",
    "from pandas.plotting import scatter_matrix\n",
    "from sklearn import datasets\n",
    "plt.style.use(\"bmh\")"
   ]
  },
  {
   "cell_type": "markdown",
   "id": "82a0ef55",
   "metadata": {},
   "source": [
    "# Students Performance Analysis\n",
    "\n",
    "### Q.1 \n",
    "\n",
    "Read the attached \"students.csv\" file to a DataFrame."
   ]
  },
  {
   "cell_type": "code",
   "execution_count": null,
   "id": "afc51375",
   "metadata": {},
   "outputs": [],
   "source": []
  },
  {
   "cell_type": "markdown",
   "id": "66b19123",
   "metadata": {},
   "source": [
    "### Q.2\n",
    "\n",
    "Print the features name and type."
   ]
  },
  {
   "cell_type": "code",
   "execution_count": null,
   "id": "c37740b8",
   "metadata": {},
   "outputs": [],
   "source": []
  },
  {
   "cell_type": "markdown",
   "id": "88959da9",
   "metadata": {},
   "source": [
    "### Q.3\n",
    "\n",
    "#### 3.1\n",
    "\n",
    "Perform feature encoding on the categorical features. <br/>\n",
    "For each categorical feature, create LabelEncoder and transform its values."
   ]
  },
  {
   "cell_type": "code",
   "execution_count": null,
   "id": "37903d11",
   "metadata": {},
   "outputs": [],
   "source": [
    "categorical_features = data.select_dtypes(include=[\"object\"]).columns"
   ]
  },
  {
   "cell_type": "code",
   "execution_count": null,
   "id": "c0415453",
   "metadata": {},
   "outputs": [],
   "source": []
  },
  {
   "cell_type": "code",
   "execution_count": null,
   "id": "1b95852a",
   "metadata": {},
   "outputs": [],
   "source": []
  },
  {
   "cell_type": "markdown",
   "id": "286a3ed7",
   "metadata": {},
   "source": [
    "#### 3.2\n",
    "\n",
    "Print the mapping values of \"NationalITy\" feature."
   ]
  },
  {
   "cell_type": "code",
   "execution_count": null,
   "id": "356b8f2e",
   "metadata": {},
   "outputs": [],
   "source": []
  },
  {
   "cell_type": "code",
   "execution_count": null,
   "id": "0b0208f1",
   "metadata": {},
   "outputs": [],
   "source": []
  },
  {
   "cell_type": "markdown",
   "id": "2bc5ca3f",
   "metadata": {},
   "source": [
    "### Q.4\n",
    "\n",
    "#### 4.1\n",
    "Use the method 'evaluate_RF' we have implemented in ensemble learning practice and evaluate it on the students dataset."
   ]
  },
  {
   "cell_type": "code",
   "execution_count": null,
   "id": "acf106fa",
   "metadata": {},
   "outputs": [],
   "source": [
    "def evaluate_RF(X, y, n_estimators, max_depth=[2,8,16,32]):\n",
    "    res = {}\n",
    "    for md in max_depth:\n",
    "        rf = RandomForestClassifier(n_estimators=n_estimators, max_depth=md, random_state=1)\n",
    "        res['rf_'+str(md)] = np.mean(cross_val_score(rf,X,y,cv=3,scoring=\"accuracy\"))\n",
    "    return res"
   ]
  },
  {
   "cell_type": "code",
   "execution_count": null,
   "id": "91c8ac27",
   "metadata": {},
   "outputs": [],
   "source": []
  },
  {
   "cell_type": "code",
   "execution_count": null,
   "id": "3810dd58",
   "metadata": {},
   "outputs": [],
   "source": []
  },
  {
   "cell_type": "markdown",
   "id": "5fb3935a",
   "metadata": {},
   "source": [
    "#### 4.2\n",
    "\n",
    "Use the hyperparameters discovered in 4.1 and display the importance of each feature."
   ]
  },
  {
   "cell_type": "code",
   "execution_count": null,
   "id": "12dbbaf9",
   "metadata": {},
   "outputs": [],
   "source": [
    "RF = RandomForestClassifier(n_estimators=200, max_depth=8, random_state=1)\n",
    "RF.fit(X,y)\n",
    "importances = pd.DataFrame({\n",
    "    \"Feature\": X.columns,\n",
    "    \"Importance\": RF.feature_importances_ * 100\n",
    "})\n",
    "importances = importances.sort_values(\"Importance\", ascending=False)\n",
    "importances"
   ]
  },
  {
   "cell_type": "markdown",
   "id": "a045a16b",
   "metadata": {},
   "source": [
    "#### 4.3\n",
    "\n",
    "Drop the least important feature."
   ]
  },
  {
   "cell_type": "code",
   "execution_count": null,
   "id": "aec5611a",
   "metadata": {},
   "outputs": [],
   "source": []
  },
  {
   "cell_type": "markdown",
   "id": "2453a156",
   "metadata": {},
   "source": [
    "#### 4.4 \n",
    "\n",
    "Use <strong>Automated Feature Selection (AFS)</strong> based on GradientBoostingClassifier and find the most important features using the <strong>median</strong> threshold."
   ]
  },
  {
   "cell_type": "code",
   "execution_count": null,
   "id": "0f197e2f",
   "metadata": {},
   "outputs": [],
   "source": [
    "select = SelectFromModel(GradientBoostingClassifier(n_estimators=200, random_state=42), threshold=\"median\")\n",
    "select.fit(X, y)\n",
    "mask = select.get_support()\n",
    "result = pd.DataFrame({\n",
    "    \"Features\": X.columns,\n",
    "    \"Selected\": mask\n",
    "})\n",
    "result"
   ]
  },
  {
   "cell_type": "markdown",
   "id": "6ee22593",
   "metadata": {},
   "source": [
    "#### 4.5\n",
    "\n",
    "Create the \"selected_features\" list with features that satisfy \"Selected = True\"."
   ]
  },
  {
   "cell_type": "code",
   "execution_count": null,
   "id": "da909d16",
   "metadata": {},
   "outputs": [],
   "source": []
  },
  {
   "cell_type": "markdown",
   "id": "075a0ab7",
   "metadata": {},
   "source": [
    "### Q.5\n",
    "\n",
    "#### 5.1\n",
    "\n",
    "Create new DataFrame using the selected features, and split to (X,y)."
   ]
  },
  {
   "cell_type": "code",
   "execution_count": null,
   "id": "c3a02dd2",
   "metadata": {},
   "outputs": [],
   "source": []
  },
  {
   "cell_type": "markdown",
   "id": "22615753",
   "metadata": {},
   "source": [
    "#### 5.2\n",
    "\n",
    "Implement the function  `search_for_hyperparameters(X, y, model_name, model, param_grid)`\n",
    "\n",
    "That gets as input:\n",
    "* X - dataset\n",
    "* y - target variable\n",
    "* model_name - string\n",
    "* model - Object\n",
    "* param_grid\n",
    "\n",
    "and perform GridSearchCV\n"
   ]
  },
  {
   "cell_type": "code",
   "execution_count": null,
   "id": "e50e2751",
   "metadata": {},
   "outputs": [],
   "source": [
    "def search_for_hyperparameters(X, y, model_name, model, param_grid):\n",
    "    pipe = Pipeline([(model_name, model)])\n",
    "    grid = GridSearchCV(pipe, param_grid=param_grid, cv=5)\n",
    "    grid.fit(X, y)\n",
    "    print(\"Test set score: {:.2f}\".format(grid.score(new_df, target)))\n",
    "    print(\"Best parameters: {}\".format(grid.best_params_))"
   ]
  },
  {
   "cell_type": "markdown",
   "id": "b349e028",
   "metadata": {},
   "source": [
    "#### 5.3\n",
    "\n",
    "Test your method on: AdaBoostClassifier, RandomForestClassifier, SVC\n",
    "\n",
    "* AdaBoostClassifier: learning_rate\n",
    "* RandomForestClassifier: n_estimators, max_depth\n",
    "* SVM: C, gamma"
   ]
  },
  {
   "cell_type": "code",
   "execution_count": null,
   "id": "226e5a02",
   "metadata": {},
   "outputs": [],
   "source": []
  },
  {
   "cell_type": "code",
   "execution_count": null,
   "id": "0e237592",
   "metadata": {},
   "outputs": [],
   "source": []
  },
  {
   "cell_type": "code",
   "execution_count": null,
   "id": "70984a31",
   "metadata": {},
   "outputs": [],
   "source": []
  },
  {
   "cell_type": "markdown",
   "id": "25238a25",
   "metadata": {},
   "source": [
    "### Q.6\n",
    "\n",
    "Use the new dataset and display the plots of PCA, tSNE, and MDS."
   ]
  },
  {
   "cell_type": "code",
   "execution_count": null,
   "id": "03eaef18",
   "metadata": {},
   "outputs": [],
   "source": [
    "def plot_PCA(data, labels):\n",
    "    pca = decomposition.PCA(n_components = 2)\n",
    "    pca_data = pca.fit_transform(data)\n",
    "    pca_data = np.vstack((pca_data.T, labels)).T\n",
    "    df = pd.DataFrame(data=pca_data, columns=(\"dim1\", \"dim2\", \"Label\"))\n",
    "    sns.FacetGrid(df, hue=\"Label\", height=6).map(plt.scatter, 'dim1', 'dim2').add_legend()\n",
    "    plt.title(\"PCA\")\n",
    "    plt.show()\n",
    "    \n",
    "def plot_tSNE(data, labels, perplexity=[5,20,30,50]):\n",
    "    kl_divergence_iris = []\n",
    "    fig, ax = plt.subplots(1, 4, figsize=(40, 8))\n",
    "    for idx, p in enumerate(perplexity):\n",
    "        tsne = TSNE(n_components=2, random_state=0, perplexity=p)\n",
    "        tsne_data = tsne.fit_transform(data)\n",
    "        kl_divergence_iris.append(tsne.kl_divergence_)\n",
    "        tsne_data = np.vstack((tsne_data.T, labels)).T\n",
    "        df = pd.DataFrame(data=tsne_data, columns=(\"dim1\", \"dim2\", \"Label\"))\n",
    "        sns.scatterplot(x=df['dim1'], y=df['dim2'], hue=df[\"Label\"], ax=ax[idx], s=100,palette='colorblind').set_title(\"t-SNE with perplexity=\"+str(p))\n",
    "    plt.show()\n",
    "    \n",
    "def plot_MDS(data, labels):\n",
    "    mds = MDS(n_components=2)\n",
    "    mds_data = mds.fit_transform(data)\n",
    "    mds_data_iris = np.vstack((mds_data.T, labels)).T\n",
    "    df = pd.DataFrame(data=mds_data_iris, columns=(\"dim1\", \"dim2\", \"Label\"))\n",
    "    sns.FacetGrid(df, hue=\"Label\", height=6).map(plt.scatter, 'dim1', 'dim2').add_legend()\n",
    "    plt.title(\"MDS with final stress=\" + str(mds.stress_))\n",
    "    plt.show()"
   ]
  },
  {
   "cell_type": "code",
   "execution_count": null,
   "id": "83ff558d",
   "metadata": {},
   "outputs": [],
   "source": []
  },
  {
   "cell_type": "code",
   "execution_count": null,
   "id": "d380d552",
   "metadata": {},
   "outputs": [],
   "source": []
  },
  {
   "cell_type": "code",
   "execution_count": null,
   "id": "accde4b3",
   "metadata": {},
   "outputs": [],
   "source": []
  },
  {
   "cell_type": "code",
   "execution_count": null,
   "id": "d5b3601c",
   "metadata": {},
   "outputs": [],
   "source": []
  },
  {
   "cell_type": "markdown",
   "id": "89f7f648",
   "metadata": {},
   "source": [
    "### Q.7\n",
    "\n",
    "Choose one model (based on the result of this practice) and evaulate it on the students dataset. <br/>\n",
    "\n",
    "Compare your result based on cross-validation-score using cv=5 and cv=10."
   ]
  },
  {
   "cell_type": "code",
   "execution_count": null,
   "id": "3d78df72",
   "metadata": {},
   "outputs": [],
   "source": [
    "cross_val_score(rf, new_df, target, cv=5)"
   ]
  },
  {
   "cell_type": "code",
   "execution_count": null,
   "id": "28045a7c",
   "metadata": {},
   "outputs": [],
   "source": []
  },
  {
   "cell_type": "code",
   "execution_count": null,
   "id": "ed70145e",
   "metadata": {},
   "outputs": [],
   "source": []
  },
  {
   "cell_type": "code",
   "execution_count": null,
   "id": "630be25a",
   "metadata": {},
   "outputs": [],
   "source": []
  },
  {
   "cell_type": "code",
   "execution_count": null,
   "id": "beb962ce",
   "metadata": {},
   "outputs": [],
   "source": []
  },
  {
   "cell_type": "markdown",
   "id": "7b98d012",
   "metadata": {},
   "source": [
    "### Q.8\n",
    "\n",
    "Build a procedure that allow you to predict future data based on your model."
   ]
  },
  {
   "cell_type": "code",
   "execution_count": null,
   "id": "bf11b0cd",
   "metadata": {},
   "outputs": [],
   "source": []
  },
  {
   "cell_type": "code",
   "execution_count": null,
   "id": "61bd3ce7",
   "metadata": {},
   "outputs": [],
   "source": [
    "def predict_student_performance(le_map, model, topic, relation, hands, resources, anno, discussion, parents, absence):\n",
    "    to_predict = [\n",
    "        le_map[\"Topic\"].transform([topic])[0], \n",
    "        le_map[\"Relation\"].transform([relation])[0],\n",
    "        hands,\n",
    "        resources,\n",
    "        anno,\n",
    "        discussion,\n",
    "        le_map[\"ParentAnsweringSurvey\"].transform([parents])[0],\n",
    "        le_map[\"StudentAbsenceDays\"].transform([absence])[0],\n",
    "    ]\n",
    "    predicted_value = model.predict([to_predict])[0]\n",
    "    return le_map[\"Class\"].inverse_transform([predicted_value])"
   ]
  },
  {
   "cell_type": "code",
   "execution_count": null,
   "id": "b71a29cd",
   "metadata": {},
   "outputs": [],
   "source": [
    "predict_student_performance(le_map, rf, \"Geology\", \"Father\", 17, 22, 3, 45, \"Yes\", \"Above-7\")"
   ]
  },
  {
   "cell_type": "code",
   "execution_count": null,
   "id": "5a963d70",
   "metadata": {},
   "outputs": [],
   "source": [
    "predict_student_performance(le_map, rf, \"Chemistry\", \"Mum\", 50, 40, 1, 30, \"Yes\", \"Above-7\")"
   ]
  },
  {
   "cell_type": "code",
   "execution_count": null,
   "id": "4696f9a5",
   "metadata": {},
   "outputs": [],
   "source": [
    "predict_student_performance(le_map, rf, \"Math\", \"Mum\", 120, 100, 5, 100, \"Yes\", \"Under-7\")"
   ]
  }
 ],
 "metadata": {
  "kernelspec": {
   "display_name": "Python 3",
   "language": "python",
   "name": "python3"
  },
  "language_info": {
   "codemirror_mode": {
    "name": "ipython",
    "version": 3
   },
   "file_extension": ".py",
   "mimetype": "text/x-python",
   "name": "python",
   "nbconvert_exporter": "python",
   "pygments_lexer": "ipython3",
   "version": "3.8.8"
  }
 },
 "nbformat": 4,
 "nbformat_minor": 5
}
