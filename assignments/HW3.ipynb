{
 "cells": [
  {
   "cell_type": "markdown",
   "id": "d6534dcc",
   "metadata": {},
   "source": [
    "# ML for Business Analytics - HW3"
   ]
  },
  {
   "cell_type": "markdown",
   "id": "1a70ba62",
   "metadata": {},
   "source": [
    "## Introduction\n",
    "\n",
    "* This exercise is the second \"sprint\" of your final project.<br/>\n",
    "* In this project, you will be learning how to handle data preparation, which is the critical first step in any machine learning project. \n",
    "* This will involve techniques such as data cleaning, feature selection, and data transformation to ensure that the data is ready for modeling. \n",
    "* This will involve understanding how different algorithms work, selecting the most appropriate one for your project, and tuning its parameters to achieve the best possible results. \n"
   ]
  },
  {
   "cell_type": "markdown",
   "id": "e439dbcc",
   "metadata": {},
   "source": [
    "## Exercise 1 - Business Understanding"
   ]
  },
  {
   "cell_type": "markdown",
   "id": "8022776b",
   "metadata": {},
   "source": [
    "### Exercise 1.1\n",
    "\n",
    "Read your dataset into dataframe using Pandas library. Use HW2, and perform simple exploration of the dataset and write 2-3 first conclusions / insights."
   ]
  },
  {
   "cell_type": "code",
   "execution_count": null,
   "id": "7ff992ae",
   "metadata": {},
   "outputs": [],
   "source": []
  },
  {
   "cell_type": "markdown",
   "id": "71c16ca9",
   "metadata": {},
   "source": [
    "### Exercise 1.2\n",
    "\n",
    "Write a short paragraph about the main business goal of this project."
   ]
  },
  {
   "cell_type": "code",
   "execution_count": null,
   "id": "dcbc7431",
   "metadata": {},
   "outputs": [],
   "source": []
  },
  {
   "cell_type": "markdown",
   "id": "f4187595",
   "metadata": {},
   "source": [
    "## Exercise 2 - Feature Importance "
   ]
  },
  {
   "cell_type": "markdown",
   "id": "b89436b5",
   "metadata": {},
   "source": [
    "### Exercise 2.1\n",
    "\n",
    "Write the function `get_top_features(X, y, threshold)`. The function gets as an input your features (X), the target variable (y), and a threshold. The function returns the features whose importance is above the threshold."
   ]
  },
  {
   "cell_type": "code",
   "execution_count": null,
   "id": "7f5e4a16",
   "metadata": {},
   "outputs": [],
   "source": []
  },
  {
   "cell_type": "markdown",
   "id": "d93a2591",
   "metadata": {},
   "source": [
    "### Exercise 2.2\n",
    "\n",
    "Explore your dataset over the `thresholds = [0.05, 0.1, 0.15, ..., 0.95]`. For each subset of features, train a supervised model and store the accuracy score. "
   ]
  },
  {
   "cell_type": "code",
   "execution_count": null,
   "id": "ffdff836",
   "metadata": {},
   "outputs": [],
   "source": []
  },
  {
   "cell_type": "markdown",
   "id": "0088fbd3",
   "metadata": {},
   "source": [
    "### Exercise 2.3\n",
    "\n",
    "Choose threshold from 2.2 and select the top importance features."
   ]
  },
  {
   "cell_type": "code",
   "execution_count": null,
   "id": "75cb863e",
   "metadata": {},
   "outputs": [],
   "source": []
  },
  {
   "cell_type": "markdown",
   "id": "ac1655a0",
   "metadata": {},
   "source": [
    "### Exercise 3 - Dimensionality Reduction"
   ]
  },
  {
   "cell_type": "markdown",
   "id": "f054cb81",
   "metadata": {},
   "source": [
    "Compare the three algorithms of Dimensionality Reduction we have learned in class on your dataset. What is the best algorithm for you? "
   ]
  },
  {
   "cell_type": "code",
   "execution_count": null,
   "id": "a320f22c",
   "metadata": {},
   "outputs": [],
   "source": []
  },
  {
   "cell_type": "markdown",
   "id": "682c19df",
   "metadata": {},
   "source": [
    "## Exercise 4 - Outliers Detection\n",
    "\n",
    "### Exercise 4.1 \n",
    "Choose the top three features of your dataset and perform <b>one</b> outliers detection algorithm. "
   ]
  },
  {
   "cell_type": "code",
   "execution_count": null,
   "id": "67b2cddd",
   "metadata": {},
   "outputs": [],
   "source": []
  },
  {
   "cell_type": "markdown",
   "id": "e7e17f16",
   "metadata": {},
   "source": [
    "### Exercise 4.2\n",
    "\n",
    "What are the conclusions from 4.1?"
   ]
  },
  {
   "cell_type": "code",
   "execution_count": null,
   "id": "22ec2526",
   "metadata": {},
   "outputs": [],
   "source": []
  }
 ],
 "metadata": {
  "kernelspec": {
   "display_name": "Python 3",
   "language": "python",
   "name": "python3"
  },
  "language_info": {
   "codemirror_mode": {
    "name": "ipython",
    "version": 3
   },
   "file_extension": ".py",
   "mimetype": "text/x-python",
   "name": "python",
   "nbconvert_exporter": "python",
   "pygments_lexer": "ipython3",
   "version": "3.8.8"
  }
 },
 "nbformat": 4,
 "nbformat_minor": 5
}
