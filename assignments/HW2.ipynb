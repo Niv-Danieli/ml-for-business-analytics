{
 "cells": [
  {
   "cell_type": "markdown",
   "id": "d6534dcc",
   "metadata": {},
   "source": [
    "# ML for Business Analytics - HW2"
   ]
  },
  {
   "cell_type": "markdown",
   "id": "1a70ba62",
   "metadata": {},
   "source": [
    "## Introduction\n",
    "\n",
    "* This exercise is the first \"sprint\" of your final project.<br/>\n",
    "* In this project, you will be learning how to handle data preparation, which is the critical first step in any machine learning project. \n",
    "* This will involve techniques such as data cleaning, feature selection, and data transformation to ensure that the data is ready for modeling. \n",
    "* This will involve understanding how different algorithms work, selecting the most appropriate one for your project, and tuning its parameters to achieve the best possible results. \n",
    "* you By the end of this project, you will have developed a deep understanding of the principles of machine learning and gained the skills you need to tackle real-world problems using AI.\n"
   ]
  },
  {
   "cell_type": "markdown",
   "id": "e439dbcc",
   "metadata": {},
   "source": [
    "## Exercise 1 - Data Handler "
   ]
  },
  {
   "cell_type": "markdown",
   "id": "8022776b",
   "metadata": {},
   "source": [
    "### Exercise 1.1\n",
    "\n",
    "Read your dataset into dataframe using Pandas library."
   ]
  },
  {
   "cell_type": "code",
   "execution_count": null,
   "id": "7ff992ae",
   "metadata": {},
   "outputs": [],
   "source": []
  },
  {
   "cell_type": "markdown",
   "id": "71c16ca9",
   "metadata": {},
   "source": [
    "### Exercise 1.2\n",
    "\n",
    "Perform simple exploration of the dataset and write 2-3 first conclusions / insights."
   ]
  },
  {
   "cell_type": "code",
   "execution_count": null,
   "id": "dcbc7431",
   "metadata": {},
   "outputs": [],
   "source": []
  },
  {
   "cell_type": "markdown",
   "id": "f4187595",
   "metadata": {},
   "source": [
    "## Exercise 2 - Feature Selection"
   ]
  },
  {
   "cell_type": "markdown",
   "id": "b89436b5",
   "metadata": {},
   "source": [
    "### Exercise 2.1\n",
    "\n",
    "Explore the importances of the features using <strong>at least</strong> two different methods (RandomForest, RFE, Statistical, etc). "
   ]
  },
  {
   "cell_type": "code",
   "execution_count": null,
   "id": "7f5e4a16",
   "metadata": {},
   "outputs": [],
   "source": []
  },
  {
   "cell_type": "markdown",
   "id": "d93a2591",
   "metadata": {},
   "source": [
    "### Exercise 2.2\n",
    "\n",
    "Choose one of the methods in exercise 3.1, and select the most significant features."
   ]
  },
  {
   "cell_type": "code",
   "execution_count": null,
   "id": "ffdff836",
   "metadata": {},
   "outputs": [],
   "source": []
  },
  {
   "cell_type": "markdown",
   "id": "eafe1359",
   "metadata": {},
   "source": [
    "### Exercise 3.3\n",
    "\n",
    "Use two different Ensemble Learning techniques and compare between the bias and variance of your dataset over different values of hyperparameters. <br/>\n",
    "For example, if you choose to use RandomForest / AdaBoost you should explore the number of trees) <br/>\n",
    "Add a conclusion drawn from your results."
   ]
  },
  {
   "cell_type": "code",
   "execution_count": null,
   "id": "69281ed8",
   "metadata": {},
   "outputs": [],
   "source": []
  },
  {
   "cell_type": "markdown",
   "id": "ac1655a0",
   "metadata": {},
   "source": [
    "### Exercise 3 - Feature Encoding and Engineering"
   ]
  },
  {
   "cell_type": "markdown",
   "id": "f054cb81",
   "metadata": {},
   "source": [
    "For implementing a Pipline, think about the:\n",
    "\n",
    "* Missing values in your dataset. Choose between remove or impute those values, according to their signficance to the final target. \n",
    "* Data encoding (one-hot-vector, label-encoder, etc.)\n",
    "* Data scaling "
   ]
  },
  {
   "cell_type": "markdown",
   "id": "cc18a5cd",
   "metadata": {},
   "source": [
    "Implement a function `build_pipeline` that build your preprocessing."
   ]
  },
  {
   "cell_type": "code",
   "execution_count": null,
   "id": "a320f22c",
   "metadata": {},
   "outputs": [],
   "source": []
  },
  {
   "cell_type": "markdown",
   "id": "682c19df",
   "metadata": {},
   "source": [
    "## Exercise 4 - Learning\n",
    "\n",
    "### Exercise 4.1\n",
    "Select a learning technique and add it to your pipeline.  "
   ]
  },
  {
   "cell_type": "code",
   "execution_count": null,
   "id": "67b2cddd",
   "metadata": {},
   "outputs": [],
   "source": []
  },
  {
   "cell_type": "markdown",
   "id": "e7e17f16",
   "metadata": {},
   "source": [
    "### Exercise 4.2\n",
    "\n",
    "Run the pipeline and display the accuracy score achieved."
   ]
  },
  {
   "cell_type": "code",
   "execution_count": null,
   "id": "22ec2526",
   "metadata": {},
   "outputs": [],
   "source": []
  },
  {
   "cell_type": "markdown",
   "id": "261acde9",
   "metadata": {},
   "source": [
    "## Exercise 5 - Visualization & Summary\n",
    "\n",
    "Write a short summary paragraph that described your work. In your answer, include visualization using dimensionality reduction techniques."
   ]
  },
  {
   "cell_type": "code",
   "execution_count": null,
   "id": "ad71afb4",
   "metadata": {},
   "outputs": [],
   "source": []
  }
 ],
 "metadata": {
  "kernelspec": {
   "display_name": "Python 3",
   "language": "python",
   "name": "python3"
  },
  "language_info": {
   "codemirror_mode": {
    "name": "ipython",
    "version": 3
   },
   "file_extension": ".py",
   "mimetype": "text/x-python",
   "name": "python",
   "nbconvert_exporter": "python",
   "pygments_lexer": "ipython3",
   "version": "3.8.8"
  }
 },
 "nbformat": 4,
 "nbformat_minor": 5
}
